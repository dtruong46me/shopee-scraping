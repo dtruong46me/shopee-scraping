{
 "cells": [
  {
   "cell_type": "markdown",
   "id": "4555ef19",
   "metadata": {},
   "source": [
    "0. Import the libraries"
   ]
  },
  {
   "cell_type": "code",
   "execution_count": 1,
   "id": "bd6f1f36",
   "metadata": {},
   "outputs": [],
   "source": [
    "from selenium import webdriver\n",
    "from selenium.webdriver.common.keys import Keys\n",
    "from selenium.webdriver.common.by import By\n",
    "\n",
    "from time import sleep"
   ]
  },
  {
   "cell_type": "markdown",
   "id": "f193ac28",
   "metadata": {},
   "source": [
    "1.1. Open the browser"
   ]
  },
  {
   "cell_type": "code",
   "execution_count": 2,
   "id": "dc52fa63",
   "metadata": {},
   "outputs": [],
   "source": [
    "# Open Chrome to hompage of Shopee\n",
    "driver = webdriver.Chrome()\n",
    "url = 'https://shopee.vn/buyer/login'\n",
    "driver.get(url)\n",
    "sleep(2)"
   ]
  },
  {
   "cell_type": "markdown",
   "id": "2074aa96",
   "metadata": {},
   "source": [
    "1.2. Enter username, password and login"
   ]
  },
  {
   "cell_type": "code",
   "execution_count": 3,
   "id": "a13b092e",
   "metadata": {},
   "outputs": [],
   "source": [
    "username = driver.find_element(By.XPATH,'//*[@id=\"main\"]/div/div[2]/div/div/div/div[2]/form/div/div[2]/div[2]/div[1]/input')\n",
    "username.send_keys('dinhtruong_09.me')\n",
    "sleep(3)\n",
    "password = driver.find_element(By.XPATH,'//*[@id=\"main\"]/div/div[2]/div/div/div/div[2]/form/div/div[2]/div[3]/div[1]/input')\n",
    "password.send_keys('Truong31122002')\n",
    "sleep(4)\n",
    "login_btn = driver.find_element(By.XPATH,'//*[@id=\"main\"]/div/div[2]/div/div/div/div[2]/form/div/div[2]/button')\n",
    "login_btn.click()\n",
    "sleep(3.4)"
   ]
  },
  {
   "cell_type": "markdown",
   "id": "bbb1d242",
   "metadata": {},
   "source": [
    "2. Search the items"
   ]
  },
  {
   "cell_type": "code",
   "execution_count": 4,
   "id": "61195017",
   "metadata": {
    "scrolled": true
   },
   "outputs": [
    {
     "name": "stdout",
     "output_type": "stream",
     "text": [
      "What do you want to find: samsung\n"
     ]
    }
   ],
   "source": [
    "user_input = input('What do you want to find: ')\n",
    "search_field = driver.find_element(By.XPATH,'//*[@id=\"main\"]/div/header/div[2]/div/div[1]/div[1]/div/form/input')\n",
    "search_field.send_keys(user_input)\n",
    "sleep(4.1)\n",
    "\n",
    "search_field.send_keys(Keys.RETURN)\n",
    "sleep(2)"
   ]
  },
  {
   "cell_type": "markdown",
   "id": "1f2cb0d6",
   "metadata": {},
   "source": [
    "3.1 Collect information of the items"
   ]
  },
  {
   "cell_type": "code",
   "execution_count": null,
   "id": "0e4ff373",
   "metadata": {},
   "outputs": [],
   "source": [
    "from random import randint\n",
    "from time import time\n",
    "def get_URL()->list:\n",
    "    time1 = time()\n",
    "    driver.execute_script(\"window.scrollTo(document.body.scrollWidth, 0);\")\n",
    "    \n",
    "    print('Scrolling down...')\n",
    "    \n",
    "    for i in range(45):\n",
    "        driver.execute_script(\"window.scrollBy(0, 100);\")\n",
    "        sleep(0.5)\n",
    "\n",
    "    sleep(3+0.1*randint(2,13))\n",
    "    \n",
    "    product_URLs = driver.find_elements(By.XPATH, '//a[@data-sqe=\"link\"]')\n",
    "    \n",
    "    urls_one_page = []\n",
    "    \n",
    "    time2 = time()\n",
    "    print('Complete find all elements on this page!')\n",
    "    print('Execution time: {:.6f}'.format(time2-time1))\n",
    "    \n",
    "    for product_url in product_URLs:\n",
    "        t1 = time()\n",
    "        url = product_url.get_attribute('href')\n",
    "        \n",
    "        sleep(0.2*randint(1,5)+0.1*randint(1,15))\n",
    "        urls_one_page.append(url)\n",
    "        t2 = time()\n",
    "        print('Successful append!', end = ' ')\n",
    "        print('Execution time: {:.6f}'.format(t2-t1))\n",
    "    \n",
    "    print('Complete get all urls of items!')\n",
    "    time3 = time()\n",
    "    print('Execution time on this page: {:.6f}'.format(time3-time1))\n",
    "    \n",
    "    return urls_one_page"
   ]
  },
  {
   "cell_type": "markdown",
   "id": "69d54a2d",
   "metadata": {},
   "source": [
    "3.2 Iterate on other pages"
   ]
  },
  {
   "cell_type": "code",
   "execution_count": null,
   "id": "f3427769",
   "metadata": {},
   "outputs": [],
   "source": [
    "urls_all_page = []\n",
    "numpage = int(input('How many pages do you want to collect: '))\n",
    "\n",
    "for i in range(numpage):\n",
    "    urls_one_page = get_URL()\n",
    "    \n",
    "    urls_all_page.extend(urls_one_page)\n",
    "    \n",
    "    print('Complete extend urls on this page')\n",
    "    print(len(urls_all_page))\n",
    "    \n",
    "    next_btn = driver.find_element(By.CSS_SELECTOR, '//*[@id=\"main\"]/div/div[2]/div/div/div[2]/div[3]/div[3]/div/button[8]')\n",
    "\n",
    "    \n",
    "    next_btn.click()\n",
    "    \n",
    "    print('Going to the next page...')\n",
    "    \n",
    "    sleep(3+0.1*randint(2,13))\n",
    "\n",
    "print(len(urls_all_page))\n",
    "for e,url in enumerate(urls_all_page):\n",
    "    print(e,url)"
   ]
  }
 ],
 "metadata": {
  "kernelspec": {
   "display_name": "Python 3 (ipykernel)",
   "language": "python",
   "name": "python3"
  },
  "language_info": {
   "codemirror_mode": {
    "name": "ipython",
    "version": 3
   },
   "file_extension": ".py",
   "mimetype": "text/x-python",
   "name": "python",
   "nbconvert_exporter": "python",
   "pygments_lexer": "ipython3",
   "version": "3.9.7"
  }
 },
 "nbformat": 4,
 "nbformat_minor": 5
}
